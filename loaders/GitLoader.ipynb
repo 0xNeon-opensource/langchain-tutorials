{
 "cells": [
  {
   "attachments": {},
   "cell_type": "markdown",
   "metadata": {},
   "source": [
    "# Local Repo"
   ]
  },
  {
   "attachments": {},
   "cell_type": "markdown",
   "metadata": {},
   "source": [
    "## From a freshly cloned repo"
   ]
  },
  {
   "cell_type": "code",
   "execution_count": 1,
   "metadata": {},
   "outputs": [
    {
     "name": "stdout",
     "output_type": "stream",
     "text": [
      "Requirement already satisfied: GitPython in /Users/silver/anaconda3/envs/langchain-tutorials-env/lib/python3.11/site-packages (3.1.31)\n",
      "Requirement already satisfied: gitdb<5,>=4.0.1 in /Users/silver/anaconda3/envs/langchain-tutorials-env/lib/python3.11/site-packages (from GitPython) (4.0.10)\n",
      "Requirement already satisfied: smmap<6,>=3.0.1 in /Users/silver/anaconda3/envs/langchain-tutorials-env/lib/python3.11/site-packages (from gitdb<5,>=4.0.1->GitPython) (5.0.0)\n",
      "Note: you may need to restart the kernel to use updated packages.\n"
     ]
    }
   ],
   "source": [
    "pip install GitPython"
   ]
  },
  {
   "cell_type": "code",
   "execution_count": 4,
   "metadata": {},
   "outputs": [],
   "source": [
    "from git import Repo\n",
    "\n",
    "repo = Repo.clone_from(\n",
    "    \"https://github.com/hwchase17/langchain\", to_path=\"./example_data/test_repo1\"\n",
    ")\n",
    "branch = repo.head.reference"
   ]
  },
  {
   "cell_type": "code",
   "execution_count": 5,
   "metadata": {},
   "outputs": [],
   "source": [
    "from langchain.document_loaders import GitLoader\n",
    "\n",
    "loader = GitLoader(repo_path=\"./example_data/test_repo1/\", branch=branch)"
   ]
  },
  {
   "cell_type": "code",
   "execution_count": 6,
   "metadata": {},
   "outputs": [
    {
     "data": {
      "text/plain": [
       "2099"
      ]
     },
     "execution_count": 6,
     "metadata": {},
     "output_type": "execute_result"
    }
   ],
   "source": [
    "data = loader.load()\n",
    "\n",
    "len(data)"
   ]
  },
  {
   "cell_type": "code",
   "execution_count": 7,
   "metadata": {},
   "outputs": [
    {
     "name": "stdout",
     "output_type": "stream",
     "text": [
      "page_content='.venv\\n.github\\n.git\\n.mypy_cache\\n.pytest_cache\\nDockerfile' metadata={'source': '.dockerignore', 'file_path': '.dockerignore', 'file_name': '.dockerignore', 'file_type': ''}\n"
     ]
    }
   ],
   "source": [
    "print(data[0])"
   ]
  },
  {
   "cell_type": "code",
   "execution_count": 12,
   "metadata": {},
   "outputs": [
    {
     "name": "stdout",
     "output_type": "stream",
     "text": [
      "{\"page_content\": \"[flake8]\\nexclude =\\n    venv\\n    .venv\\n    __pycache__\\n    notebooks\\n# Recommend matching the black line length (default 88),\\n# rather than using the flake8 default of 79:\\nmax-line-length = 88\\nextend-ignore =\\n    # See https://github.com/PyCQA/pycodestyle/issues/373\\n    E203,\\n\", \"metadata\": {\"source\": \".flake8\", \"file_path\": \".flake8\", \"file_name\": \".flake8\", \"file_type\": \"\"}}\n"
     ]
    }
   ],
   "source": [
    "print(data[1].json())"
   ]
  },
  {
   "attachments": {},
   "cell_type": "markdown",
   "metadata": {},
   "source": [
    "## Existing local repo"
   ]
  },
  {
   "cell_type": "code",
   "execution_count": 13,
   "metadata": {},
   "outputs": [],
   "source": [
    "from langchain.document_loaders import GitLoader\n",
    "\n",
    "local_loader = GitLoader(repo_path=\"../\")"
   ]
  },
  {
   "cell_type": "code",
   "execution_count": 14,
   "metadata": {},
   "outputs": [
    {
     "data": {
      "text/plain": [
       "2099"
      ]
     },
     "execution_count": 14,
     "metadata": {},
     "output_type": "execute_result"
    }
   ],
   "source": [
    "local_data = loader.load()\n",
    "\n",
    "len(local_data)"
   ]
  },
  {
   "cell_type": "code",
   "execution_count": 17,
   "metadata": {},
   "outputs": [
    {
     "name": "stdout",
     "output_type": "stream",
     "text": [
      "{\"page_content\": \"# \\ud83e\\udd9c\\ufe0f\\ud83d\\udd17 LangChain\\n\\n\\u26a1 Building applications with LLMs through composability \\u26a1\\n\\n[![Release Notes](https://img.shields.io/github/release/hwchase17/langchain)](https://github.com/hwchase17/langchain/releases)\\n[![lint](https://github.com/hwchase17/langchain/actions/workflows/lint.yml/badge.svg)](https://github.com/hwchase17/langchain/actions/workflows/lint.yml)\\n[![test](https://github.com/hwchase17/langchain/actions/workflows/test.yml/badge.svg)](https://github.com/hwchase17/langchain/actions/workflows/test.yml)\\n[![Downloads](https://static.pepy.tech/badge/langchain/month)](https://pepy.tech/project/langchain)\\n[![License: MIT](https://img.shields.io/badge/License-MIT-yellow.svg)](https://opensource.org/licenses/MIT)\\n[![Twitter](https://img.shields.io/twitter/url/https/twitter.com/langchainai.svg?style=social&label=Follow%20%40LangChainAI)](https://twitter.com/langchainai)\\n[![](https://dcbadge.vercel.app/api/server/6adMQxSpJS?compact=true&style=flat)](https://discord.gg/6adMQxSpJS)\\n[![Open in Dev Containers](https://img.shields.io/static/v1?label=Dev%20Containers&message=Open&color=blue&logo=visualstudiocode)](https://vscode.dev/redirect?url=vscode://ms-vscode-remote.remote-containers/cloneInVolume?url=https://github.com/hwchase17/langchain)\\n[![Open in GitHub Codespaces](https://github.com/codespaces/badge.svg)](https://codespaces.new/hwchase17/langchain)\\n[![GitHub star chart](https://img.shields.io/github/stars/hwchase17/langchain?style=social)](https://star-history.com/#hwchase17/langchain)\\n[![Dependency Status](https://img.shields.io/librariesio/github/hwchase17/langchain)](https://libraries.io/github/hwchase17/langchain)\\n[![Open Issues](https://img.shields.io/github/issues-raw/hwchase17/langchain)](https://github.com/hwchase17/langchain/issues)\\n\\n\\nLooking for the JS/TS version? Check out [LangChain.js](https://github.com/hwchase17/langchainjs).\\n\\n**Production Support:** As you move your LangChains into production, we'd love to offer more comprehensive support.\\nPlease fill out [this form](https://forms.gle/57d8AmXBYp8PP8tZA) and we'll set up a dedicated support Slack channel.\\n\\n## Quick Install\\n\\n`pip install langchain`\\nor\\n`conda install langchain -c conda-forge`\\n\\n## \\ud83e\\udd14 What is this?\\n\\nLarge language models (LLMs) are emerging as a transformative technology, enabling developers to build applications that they previously could not. However, using these LLMs in isolation is often insufficient for creating a truly powerful app - the real power comes when you can combine them with other sources of computation or knowledge.\\n\\nThis library aims to assist in the development of those types of applications. Common examples of these applications include:\\n\\n**\\u2753 Question Answering over specific documents**\\n\\n- [Documentation](https://python.langchain.com/docs/use_cases/question_answering/)\\n- End-to-end Example: [Question Answering over Notion Database](https://github.com/hwchase17/notion-qa)\\n\\n**\\ud83d\\udcac Chatbots**\\n\\n- [Documentation](https://python.langchain.com/docs/use_cases/chatbots/)\\n- End-to-end Example: [Chat-LangChain](https://github.com/hwchase17/chat-langchain)\\n\\n**\\ud83e\\udd16 Agents**\\n\\n- [Documentation](https://python.langchain.com/docs/modules/agents/)\\n- End-to-end Example: [GPT+WolframAlpha](https://huggingface.co/spaces/JavaFXpert/Chat-GPT-LangChain)\\n\\n## \\ud83d\\udcd6 Documentation\\n\\nPlease see [here](https://python.langchain.com) for full documentation on:\\n\\n- Getting started (installation, setting up the environment, simple examples)\\n- How-To examples (demos, integrations, helper functions)\\n- Reference (full API docs)\\n- Resources (high-level explanation of core concepts)\\n\\n## \\ud83d\\ude80 What can this help with?\\n\\nThere are six main areas that LangChain is designed to help with.\\nThese are, in increasing order of complexity:\\n\\n**\\ud83d\\udcc3 LLMs and Prompts:**\\n\\nThis includes prompt management, prompt optimization, a generic interface for all LLMs, and common utilities for working with LLMs.\\n\\n**\\ud83d\\udd17 Chains:**\\n\\nChains go beyond a single LLM call and involve sequences of calls (whether to an LLM or a different utility). LangChain provides a standard interface for chains, lots of integrations with other tools, and end-to-end chains for common applications.\\n\\n**\\ud83d\\udcda Data Augmented Generation:**\\n\\nData Augmented Generation involves specific types of chains that first interact with an external data source to fetch data for use in the generation step. Examples include summarization of long pieces of text and question/answering over specific data sources.\\n\\n**\\ud83e\\udd16 Agents:**\\n\\nAgents involve an LLM making decisions about which Actions to take, taking that Action, seeing an Observation, and repeating that until done. LangChain provides a standard interface for agents, a selection of agents to choose from, and examples of end-to-end agents.\\n\\n**\\ud83e\\udde0 Memory:**\\n\\nMemory refers to persisting state between calls of a chain/agent. LangChain provides a standard interface for memory, a collection of memory implementations, and examples of chains/agents that use memory.\\n\\n**\\ud83e\\uddd0 Evaluation:**\\n\\n[BETA] Generative models are notoriously hard to evaluate with traditional metrics. One new way of evaluating them is using language models themselves to do the evaluation. LangChain provides some prompts/chains for assisting in this.\\n\\nFor more information on these concepts, please see our [full documentation](https://python.langchain.com).\\n\\n## \\ud83d\\udc81 Contributing\\n\\nAs an open-source project in a rapidly developing field, we are extremely open to contributions, whether it be in the form of a new feature, improved infrastructure, or better documentation.\\n\\nFor detailed information on how to contribute, see [here](.github/CONTRIBUTING.md).\\n\", \"metadata\": {\"source\": \"README.md\", \"file_path\": \"README.md\", \"file_name\": \"README.md\", \"file_type\": \".md\"}}\n"
     ]
    }
   ],
   "source": [
    "print(data[10].json())"
   ]
  }
 ],
 "metadata": {
  "kernelspec": {
   "display_name": "langchain-tutorials-env",
   "language": "python",
   "name": "python3"
  },
  "language_info": {
   "codemirror_mode": {
    "name": "ipython",
    "version": 3
   },
   "file_extension": ".py",
   "mimetype": "text/x-python",
   "name": "python",
   "nbconvert_exporter": "python",
   "pygments_lexer": "ipython3",
   "version": "3.11.4"
  },
  "orig_nbformat": 4
 },
 "nbformat": 4,
 "nbformat_minor": 2
}
