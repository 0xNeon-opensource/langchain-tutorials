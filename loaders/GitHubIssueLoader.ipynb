{
 "cells": [
  {
   "cell_type": "code",
   "execution_count": 4,
   "metadata": {},
   "outputs": [],
   "source": [
    "from getpass import getpass\n",
    "\n",
    "ACCESS_TOKEN = getpass()"
   ]
  },
  {
   "cell_type": "code",
   "execution_count": 5,
   "metadata": {},
   "outputs": [
    {
     "name": "stdout",
     "output_type": "stream",
     "text": [
      "\n"
     ]
    }
   ],
   "source": [
    "print(ACCESS_TOKEN)"
   ]
  },
  {
   "cell_type": "code",
   "execution_count": 6,
   "metadata": {},
   "outputs": [
    {
     "name": "stdout",
     "output_type": "stream",
     "text": [
      "Requirement already satisfied: langchain in /Users/silver/anaconda3/envs/langchain-tutorials-env/lib/python3.11/site-packages (0.0.202)\n",
      "Requirement already satisfied: PyYAML>=5.4.1 in /Users/silver/anaconda3/envs/langchain-tutorials-env/lib/python3.11/site-packages (from langchain) (6.0)\n",
      "Requirement already satisfied: SQLAlchemy<3,>=1.4 in /Users/silver/anaconda3/envs/langchain-tutorials-env/lib/python3.11/site-packages (from langchain) (2.0.16)\n",
      "Requirement already satisfied: aiohttp<4.0.0,>=3.8.3 in /Users/silver/anaconda3/envs/langchain-tutorials-env/lib/python3.11/site-packages (from langchain) (3.8.4)\n",
      "Requirement already satisfied: dataclasses-json<0.6.0,>=0.5.7 in /Users/silver/anaconda3/envs/langchain-tutorials-env/lib/python3.11/site-packages (from langchain) (0.5.8)\n",
      "Requirement already satisfied: langchainplus-sdk>=0.0.9 in /Users/silver/anaconda3/envs/langchain-tutorials-env/lib/python3.11/site-packages (from langchain) (0.0.10)\n",
      "Requirement already satisfied: numexpr<3.0.0,>=2.8.4 in /Users/silver/anaconda3/envs/langchain-tutorials-env/lib/python3.11/site-packages (from langchain) (2.8.4)\n",
      "Requirement already satisfied: numpy<2,>=1 in /Users/silver/anaconda3/envs/langchain-tutorials-env/lib/python3.11/site-packages (from langchain) (1.25.0)\n",
      "Requirement already satisfied: openapi-schema-pydantic<2.0,>=1.2 in /Users/silver/anaconda3/envs/langchain-tutorials-env/lib/python3.11/site-packages (from langchain) (1.2.4)\n",
      "Requirement already satisfied: pydantic<2,>=1 in /Users/silver/anaconda3/envs/langchain-tutorials-env/lib/python3.11/site-packages (from langchain) (1.10.9)\n",
      "Requirement already satisfied: requests<3,>=2 in /Users/silver/anaconda3/envs/langchain-tutorials-env/lib/python3.11/site-packages (from langchain) (2.31.0)\n",
      "Requirement already satisfied: tenacity<9.0.0,>=8.1.0 in /Users/silver/anaconda3/envs/langchain-tutorials-env/lib/python3.11/site-packages (from langchain) (8.2.2)\n",
      "Requirement already satisfied: attrs>=17.3.0 in /Users/silver/anaconda3/envs/langchain-tutorials-env/lib/python3.11/site-packages (from aiohttp<4.0.0,>=3.8.3->langchain) (23.1.0)\n",
      "Requirement already satisfied: charset-normalizer<4.0,>=2.0 in /Users/silver/anaconda3/envs/langchain-tutorials-env/lib/python3.11/site-packages (from aiohttp<4.0.0,>=3.8.3->langchain) (3.1.0)\n",
      "Requirement already satisfied: multidict<7.0,>=4.5 in /Users/silver/anaconda3/envs/langchain-tutorials-env/lib/python3.11/site-packages (from aiohttp<4.0.0,>=3.8.3->langchain) (6.0.4)\n",
      "Requirement already satisfied: async-timeout<5.0,>=4.0.0a3 in /Users/silver/anaconda3/envs/langchain-tutorials-env/lib/python3.11/site-packages (from aiohttp<4.0.0,>=3.8.3->langchain) (4.0.2)\n",
      "Requirement already satisfied: yarl<2.0,>=1.0 in /Users/silver/anaconda3/envs/langchain-tutorials-env/lib/python3.11/site-packages (from aiohttp<4.0.0,>=3.8.3->langchain) (1.9.2)\n",
      "Requirement already satisfied: frozenlist>=1.1.1 in /Users/silver/anaconda3/envs/langchain-tutorials-env/lib/python3.11/site-packages (from aiohttp<4.0.0,>=3.8.3->langchain) (1.3.3)\n",
      "Requirement already satisfied: aiosignal>=1.1.2 in /Users/silver/anaconda3/envs/langchain-tutorials-env/lib/python3.11/site-packages (from aiohttp<4.0.0,>=3.8.3->langchain) (1.3.1)\n",
      "Requirement already satisfied: marshmallow<4.0.0,>=3.3.0 in /Users/silver/anaconda3/envs/langchain-tutorials-env/lib/python3.11/site-packages (from dataclasses-json<0.6.0,>=0.5.7->langchain) (3.19.0)\n",
      "Requirement already satisfied: marshmallow-enum<2.0.0,>=1.5.1 in /Users/silver/anaconda3/envs/langchain-tutorials-env/lib/python3.11/site-packages (from dataclasses-json<0.6.0,>=0.5.7->langchain) (1.5.1)\n",
      "Requirement already satisfied: typing-inspect>=0.4.0 in /Users/silver/anaconda3/envs/langchain-tutorials-env/lib/python3.11/site-packages (from dataclasses-json<0.6.0,>=0.5.7->langchain) (0.9.0)\n",
      "Requirement already satisfied: typing-extensions>=4.2.0 in /Users/silver/anaconda3/envs/langchain-tutorials-env/lib/python3.11/site-packages (from pydantic<2,>=1->langchain) (4.6.3)\n",
      "Requirement already satisfied: idna<4,>=2.5 in /Users/silver/anaconda3/envs/langchain-tutorials-env/lib/python3.11/site-packages (from requests<3,>=2->langchain) (3.4)\n",
      "Requirement already satisfied: urllib3<3,>=1.21.1 in /Users/silver/anaconda3/envs/langchain-tutorials-env/lib/python3.11/site-packages (from requests<3,>=2->langchain) (2.0.3)\n",
      "Requirement already satisfied: certifi>=2017.4.17 in /Users/silver/anaconda3/envs/langchain-tutorials-env/lib/python3.11/site-packages (from requests<3,>=2->langchain) (2023.5.7)\n",
      "Requirement already satisfied: packaging>=17.0 in /Users/silver/anaconda3/envs/langchain-tutorials-env/lib/python3.11/site-packages (from marshmallow<4.0.0,>=3.3.0->dataclasses-json<0.6.0,>=0.5.7->langchain) (23.1)\n",
      "Requirement already satisfied: mypy-extensions>=0.3.0 in /Users/silver/anaconda3/envs/langchain-tutorials-env/lib/python3.11/site-packages (from typing-inspect>=0.4.0->dataclasses-json<0.6.0,>=0.5.7->langchain) (1.0.0)\n",
      "Note: you may need to restart the kernel to use updated packages.\n"
     ]
    }
   ],
   "source": [
    "pip install langchain"
   ]
  },
  {
   "cell_type": "code",
   "execution_count": 7,
   "metadata": {},
   "outputs": [],
   "source": [
    "from langchain.document_loaders import GitHubIssuesLoader\n",
    "\n",
    "loader = GitHubIssuesLoader(\n",
    "    repo=\"hwchase17/langchain\",\n",
    "    # access_token=ACCESS_TOKEN,  # delete/comment out this argument if you've set the access token as an env var.\n",
    "    creator=\"UmerHA\",\n",
    ")"
   ]
  },
  {
   "cell_type": "code",
   "execution_count": 8,
   "metadata": {},
   "outputs": [],
   "source": [
    "docs = loader.load()"
   ]
  },
  {
   "cell_type": "code",
   "execution_count": 9,
   "metadata": {},
   "outputs": [
    {
     "name": "stdout",
     "output_type": "stream",
     "text": [
      "#  Add caching to BaseChatModel\n",
      "Fixes #1644\n",
      "\n",
      "(Sidenote: While testing, I noticed we have multiple implementations of Fake LLMs, used for testing. I consolidated them.)\n",
      "\n",
      "## Who can review?\n",
      "Community members can review the PR once tests pass. Tag maintainers/contributors who might be interested:\n",
      "Models\n",
      "- @hwchase17\n",
      "- @agola11\n",
      "\n",
      "Twitter: [@UmerHAdil](https://twitter.com/@UmerHAdil) | Discord: RicChilligerDude#7589\n",
      "{'url': 'https://github.com/hwchase17/langchain/pull/5089', 'title': ' Add caching to BaseChatModel (issue #1644)', 'creator': 'UmerHA', 'created_at': '2023-05-22T12:08:30Z', 'comments': 14, 'state': 'open', 'labels': ['enhancement'], 'assignee': None, 'milestone': None, 'locked': False, 'number': 5089, 'is_pull_request': True}\n"
     ]
    }
   ],
   "source": [
    "print(docs[0].page_content)\n",
    "print(docs[0].metadata)"
   ]
  },
  {
   "cell_type": "code",
   "execution_count": 10,
   "metadata": {},
   "outputs": [],
   "source": [
    "loader = GitHubIssuesLoader(\n",
    "    repo=\"EthosWallet/chrome-extension\",\n",
    ")\n",
    "\n",
    "chex_docs = loader.load()"
   ]
  },
  {
   "cell_type": "code",
   "execution_count": 11,
   "metadata": {},
   "outputs": [
    {
     "name": "stdout",
     "output_type": "stream",
     "text": [
      "Bumps [@mysten/sui.js](https://github.com/MystenLabs/sui) from 0.34.0 to 0.36.0.\n",
      "<details>\n",
      "<summary>Commits</summary>\n",
      "<ul>\n",
      "<li>See full diff in <a href=\"https://github.com/MystenLabs/sui/commits\">compare view</a></li>\n",
      "</ul>\n",
      "</details>\n",
      "<br />\n",
      "\n",
      "\n",
      "[![Dependabot compatibility score](https://dependabot-badges.githubapp.com/badges/compatibility_score?dependency-name=@mysten/sui.js&package-manager=npm_and_yarn&previous-version=0.34.0&new-version=0.36.0)](https://docs.github.com/en/github/managing-security-vulnerabilities/about-dependabot-security-updates#about-compatibility-scores)\n",
      "\n",
      "Dependabot will resolve any conflicts with this PR as long as you don't alter it yourself. You can also trigger a rebase manually by commenting `@dependabot rebase`.\n",
      "\n",
      "[//]: # (dependabot-automerge-start)\n",
      "[//]: # (dependabot-automerge-end)\n",
      "\n",
      "---\n",
      "\n",
      "<details>\n",
      "<summary>Dependabot commands and options</summary>\n",
      "<br />\n",
      "\n",
      "You can trigger Dependabot actions by commenting on this PR:\n",
      "- `@dependabot rebase` will rebase this PR\n",
      "- `@dependabot recreate` will recreate this PR, overwriting any edits that have been made to it\n",
      "- `@dependabot merge` will merge this PR after your CI passes on it\n",
      "- `@dependabot squash and merge` will squash and merge this PR after your CI passes on it\n",
      "- `@dependabot cancel merge` will cancel a previously requested merge and block automerging\n",
      "- `@dependabot reopen` will reopen this PR if it is closed\n",
      "- `@dependabot close` will close this PR and stop Dependabot recreating it. You can achieve the same result by closing it manually\n",
      "- `@dependabot ignore this major version` will close this PR and stop Dependabot creating any more for this major version (unless you reopen the PR or upgrade to it yourself)\n",
      "- `@dependabot ignore this minor version` will close this PR and stop Dependabot creating any more for this minor version (unless you reopen the PR or upgrade to it yourself)\n",
      "- `@dependabot ignore this dependency` will close this PR and stop Dependabot creating any more for this dependency (unless you reopen the PR or upgrade to it yourself)\n",
      "\n",
      "\n",
      "</details>\n",
      "{'url': 'https://github.com/EthosWallet/chrome-extension/pull/204', 'title': 'Bump @mysten/sui.js from 0.34.0 to 0.36.0', 'creator': 'dependabot[bot]', 'created_at': '2023-06-14T23:19:35Z', 'comments': 0, 'state': 'open', 'labels': ['dependencies'], 'assignee': None, 'milestone': None, 'locked': False, 'number': 204, 'is_pull_request': True}\n"
     ]
    }
   ],
   "source": [
    "print(chex_docs[0].page_content)\n",
    "print(chex_docs[0].metadata)"
   ]
  }
 ],
 "metadata": {
  "kernelspec": {
   "display_name": "langchain-tutorials-env",
   "language": "python",
   "name": "python3"
  },
  "language_info": {
   "codemirror_mode": {
    "name": "ipython",
    "version": 3
   },
   "file_extension": ".py",
   "mimetype": "text/x-python",
   "name": "python",
   "nbconvert_exporter": "python",
   "pygments_lexer": "ipython3",
   "version": "3.11.4"
  },
  "orig_nbformat": 4
 },
 "nbformat": 4,
 "nbformat_minor": 2
}
